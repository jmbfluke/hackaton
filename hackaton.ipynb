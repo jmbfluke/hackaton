{
  "nbformat": 4,
  "nbformat_minor": 0,
  "metadata": {
    "colab": {
      "provenance": []
    },
    "kernelspec": {
      "name": "python3",
      "display_name": "Python 3"
    },
    "language_info": {
      "name": "python"
    }
  },
  "cells": [
    {
      "cell_type": "code",
      "execution_count": 1,
      "metadata": {
        "id": "s_WDQcmi6orL"
      },
      "outputs": [],
      "source": [
        "!pip install -q -U google-generativeai"
      ]
    },
    {
      "cell_type": "code",
      "source": [
        "import google.generativeai as genai\n",
        "\n",
        "API_KEY = ''\n",
        "genai.configure(api_key=API_KEY)"
      ],
      "metadata": {
        "id": "htdhxRrVDWB6"
      },
      "execution_count": 2,
      "outputs": []
    },
    {
      "cell_type": "code",
      "source": [
        "# Creamos una instancia del modelo. Usaremos gemini-2.5-flash.\n",
        "model = genai.GenerativeModel('gemini-2.5-flash')\n",
        "\n",
        "# ¡El prompt! Pídanle lo que quieran.\n",
        "prompt = \"Dame 3 ideas de proyectos para un hackathon que combinen IA y sustentabilidad. Sé breve y directo.\"\n",
        "response = model.generate_content(prompt)\n",
        "\n",
        "# Imprimimos la respuesta\n",
        "print(response.text)"
      ],
      "metadata": {
        "colab": {
          "base_uri": "https://localhost:8080/",
          "height": 124
        },
        "id": "z7egxbcVDWTV",
        "outputId": "363fc382-2ed3-4c18-9d9a-8ab7122ab5ee"
      },
      "execution_count": 20,
      "outputs": [
        {
          "output_type": "stream",
          "name": "stdout",
          "text": [
            "Aquí tienes 3 ideas de proyectos para un hackathon que combinen IA y sustentabilidad:\n",
            "\n",
            "1.  **Clasificador Inteligente de Residuos:** Desarrollar un sistema de visión artificial (IA) para identificar y clasificar automáticamente diferentes tipos de residuos (plástico, papel, orgánico) para optimizar el reciclaje y reducir la contaminación.\n",
            "2.  **Monitor de Huella Hídrica con IA:** Usar Machine Learning para analizar datos de consumo de agua en hogares o industrias y ofrecer recomendaciones personalizadas para reducir la huella hídrica, detectando fugas o patrones de uso ineficientes.\n",
            "3.  **Detección de Deforestación en Tiempo Real:** Implementar algoritmos de IA y visión por computadora para analizar imágenes satelitales y detectar patrones de deforestación ilegal o cambios en la cobertura forestal, alertando a las autoridades para una acción rápida.\n"
          ]
        }
      ]
    },
    {
      "cell_type": "code",
      "source": [
        "# Celda 1: Bajar la imagen de internet\n",
        "!wget -O foto_demo.jpg \"https://upload.wikimedia.org/wikipedia/commons/d/df/Cat_Paw_Up_Close_-_WHITE.JPG\""
      ],
      "metadata": {
        "colab": {
          "base_uri": "https://localhost:8080/"
        },
        "id": "O1IgHl-LQ0T5",
        "outputId": "7bc7ef73-91ff-48e1-8604-50cf6b838a61"
      },
      "execution_count": 21,
      "outputs": [
        {
          "output_type": "stream",
          "name": "stdout",
          "text": [
            "--2025-10-17 22:41:06--  https://upload.wikimedia.org/wikipedia/commons/d/df/Cat_Paw_Up_Close_-_WHITE.JPG\n",
            "Resolving upload.wikimedia.org (upload.wikimedia.org)... 208.80.154.240, 2620:0:861:ed1a::2:b\n",
            "Connecting to upload.wikimedia.org (upload.wikimedia.org)|208.80.154.240|:443... connected.\n",
            "HTTP request sent, awaiting response... 200 OK\n",
            "Length: 471288 (460K) [image/jpeg]\n",
            "Saving to: ‘foto_demo.jpg’\n",
            "\n",
            "\rfoto_demo.jpg         0%[                    ]       0  --.-KB/s               \rfoto_demo.jpg       100%[===================>] 460.24K  --.-KB/s    in 0.06s   \n",
            "\n",
            "2025-10-17 22:41:06 (7.72 MB/s) - ‘foto_demo.jpg’ saved [471288/471288]\n",
            "\n"
          ]
        }
      ]
    },
    {
      "cell_type": "code",
      "source": [
        "# Necesitamos la librería para manejar imágenes\n",
        "import PIL.Image\n",
        "\n",
        "# Suban una imagen y pongan el nombre aquí\n",
        "img = PIL.Image.open('foto_demo.jpg')\n",
        "\n",
        "# El prompt ahora es una combinación de texto e imagen\n",
        "response = model.generate_contentr([\"Describe brevemente qué es esto, Solo respuestas incorrectas de broma\", img])\n",
        "\n",
        "print(response.text)"
      ],
      "metadata": {
        "colab": {
          "base_uri": "https://localhost:8080/",
          "height": 159
        },
        "id": "qymQMb76DWce",
        "outputId": "fa68e030-ca48-474f-ddfc-ad4c912c4943"
      },
      "execution_count": 23,
      "outputs": [
        {
          "output_type": "stream",
          "name": "stdout",
          "text": [
            "¡Claro que sí! Aquí tienes algunas descripciones incorrectas y de broma:\n",
            "\n",
            "1.  Es la huella de un malvavisco gigante que intentó escapar de una fogata y no lo logró del todo.\n",
            "2.  La zarpa de un mini-yeti de las nieves, buscando su calcetín favorito.\n",
            "3.  Un nuevo prototipo de cepillo ultrasuave para limpiar las pelusas del universo.\n",
            "4.  La almohadilla de aterrizaje de una nave espacial de exploración de algodón de azúcar.\n",
            "5.  Un cojín antiestrés de lujo diseñado para que tu ratón de computadora duerma siestas.\n"
          ]
        }
      ]
    }
  ]
}