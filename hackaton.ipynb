{
  "nbformat": 4,
  "nbformat_minor": 0,
  "metadata": {
    "colab": {
      "provenance": []
    },
    "kernelspec": {
      "name": "python3",
      "display_name": "Python 3"
    },
    "language_info": {
      "name": "python"
    }
  },
  "cells": [
    {
      "cell_type": "code",
      "execution_count": 1,
      "metadata": {
        "id": "s_WDQcmi6orL"
      },
      "outputs": [],
      "source": [
        "!pip install -q -U google-generativeai"
      ]
    },
    {
      "cell_type": "code",
      "source": [
        "import google.generativeai as genai\n",
        "\n",
        "API_KEY = ''\n",
        "genai.configure(api_key=API_KEY)"
      ],
      "metadata": {
        "id": "htdhxRrVDWB6"
      },
      "execution_count": 2,
      "outputs": []
    },
    {
      "cell_type": "code",
      "source": [
        "# Creamos una instancia del modelo. Usaremos gemini-2.5-flash.\n",
        "model = genai.GenerativeModel('gemini-2.5-flash')\n",
        "\n",
        "# ¡El prompt! Pídanle lo que quieran.\n",
        "prompt = \"Dame 3 ideas de proyectos para un hackathon que combinen IA y sustentabilidad. Sé breve y directo.\"\n",
        "response = model.generate_content(prompt)\n",
        "\n",
        "# Imprimimos la respuesta\n",
        "print(response.text)"
      ],
      "metadata": {
        "colab": {
          "base_uri": "https://localhost:8080/",
          "height": 124
        },
        "id": "z7egxbcVDWTV",
        "outputId": "3c5a7c53-a1a9-496a-ccb3-99ec6c57c91a"
      },
      "execution_count": 14,
      "outputs": [
        {
          "output_type": "stream",
          "name": "stdout",
          "text": [
            "Aquí tienes 3 ideas:\n",
            "\n",
            "1.  **Eco-Scanner Residuos:** Una app que usa visión por computadora (IA) para identificar el tipo de residuo (plástico, orgánico, etc.) y guiar al usuario sobre cómo reciclarlo correctamente, incluyendo puntos de reciclaje cercanos.\n",
            "2.  **OptiEnergía IA:** Una plataforma que utiliza IA predictiva para analizar patrones de consumo energético de un edificio o vivienda (clima, ocupación) y sugiere ajustes automatizados u optimizaciones para reducir el gasto y la huella de carbono.\n",
            "3.  **Despensa Sostenible:** Un asistente IA (chatbot o app) que, basándose en los ingredientes disponibles en la despensa del usuario y sus fechas de caducidad, sugiere recetas o usos alternativos para evitar el desperdicio de alimentos.\n"
          ]
        }
      ]
    },
    {
      "cell_type": "code",
      "source": [
        "# Celda 1: Bajar la imagen de internet\n",
        "!wget -O foto_demo.jpg \"https://upload.wikimedia.org/wikipedia/commons/d/df/Cat_Paw_Up_Close_-_WHITE.JPG\""
      ],
      "metadata": {
        "colab": {
          "base_uri": "https://localhost:8080/"
        },
        "id": "O1IgHl-LQ0T5",
        "outputId": "69e321ff-9434-4692-e7cb-787478789f45"
      },
      "execution_count": 10,
      "outputs": [
        {
          "output_type": "stream",
          "name": "stdout",
          "text": [
            "--2025-10-17 22:26:02--  https://upload.wikimedia.org/wikipedia/commons/d/df/Cat_Paw_Up_Close_-_WHITE.JPG\n",
            "Resolving upload.wikimedia.org (upload.wikimedia.org)... 208.80.154.240, 2620:0:861:ed1a::2:b\n",
            "Connecting to upload.wikimedia.org (upload.wikimedia.org)|208.80.154.240|:443... connected.\n",
            "HTTP request sent, awaiting response... 200 OK\n",
            "Length: 471288 (460K) [image/jpeg]\n",
            "Saving to: ‘foto_demo.jpg’\n",
            "\n",
            "\rfoto_demo.jpg         0%[                    ]       0  --.-KB/s               \rfoto_demo.jpg       100%[===================>] 460.24K  --.-KB/s    in 0.06s   \n",
            "\n",
            "2025-10-17 22:26:02 (7.55 MB/s) - ‘foto_demo.jpg’ saved [471288/471288]\n",
            "\n"
          ]
        }
      ]
    },
    {
      "cell_type": "code",
      "source": [
        "# Necesitamos la librería para manejar imágenes\n",
        "import PIL.Image\n",
        "\n",
        "# Suban una imagen y pongan el nombre aquí\n",
        "img = PIL.Image.open('foto_demo.jpg')\n",
        "\n",
        "# El prompt ahora es una combinación de texto e imagen\n",
        "response = model.generate_contentr([\"Describe brevemente qué es esto.\", img])\n",
        "\n",
        "print(response.text)"
      ],
      "metadata": {
        "colab": {
          "base_uri": "https://localhost:8080/",
          "height": 54
        },
        "id": "qymQMb76DWce",
        "outputId": "4ff0091f-e26c-480d-a6ee-26f6a7d3a7a5"
      },
      "execution_count": 17,
      "outputs": [
        {
          "output_type": "stream",
          "name": "stdout",
          "text": [
            "Es una pata de gato blanca y peluda, apoyada sobre una superficie rugosa, posiblemente cemento o piedra.\n"
          ]
        }
      ]
    }
  ]
}