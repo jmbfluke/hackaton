{
  "nbformat": 4,
  "nbformat_minor": 0,
  "metadata": {
    "colab": {
      "provenance": []
    },
    "kernelspec": {
      "name": "python3",
      "display_name": "Python 3"
    },
    "language_info": {
      "name": "python"
    }
  },
  "cells": [
    {
      "cell_type": "code",
      "execution_count": null,
      "metadata": {
        "id": "s_WDQcmi6orL"
      },
      "outputs": [],
      "source": [
        "!pip install -q -U google-generativeai"
      ]
    },
    {
      "cell_type": "code",
      "source": [
        "import google.generativeai as genai\n",
        "\n",
        "# Aquí va la magia. Pega tu API key que acabas de crear.\n",
        "API_KEY = 'TU_API_KEY_AQUÍ'\n",
        "genai.configure(api_key=API_KEY)"
      ],
      "metadata": {
        "id": "htdhxRrVDWB6"
      },
      "execution_count": null,
      "outputs": []
    },
    {
      "cell_type": "code",
      "source": [
        "# Creamos una instancia del modelo. Usaremos gemini-1.5-flash.\n",
        "model = genai.GenerativeModel('gemini-1.5-flash')\n",
        "\n",
        "# ¡El prompt! Pídanle lo que quieran.\n",
        "prompt = \"Dame 3 ideas de proyectos para un hackathon que combinen IA y sustentabilidad. Sé breve y directo.\"\n",
        "response = model.generate_content(prompt)\n",
        "\n",
        "# Imprimimos la respuesta\n",
        "print(response.text)"
      ],
      "metadata": {
        "id": "z7egxbcVDWTV"
      },
      "execution_count": null,
      "outputs": []
    },
    {
      "cell_type": "code",
      "source": [
        "# Necesitamos la librería para manejar imágenes\n",
        "import PIL.Image\n",
        "\n",
        "# Suban una imagen y pongan el nombre aquí\n",
        "img = PIL.Image.open('nombre-de-su-imagen.jpg')\n",
        "\n",
        "# El prompt ahora es una combinación de texto e imagen\n",
        "response = model.generate_content([\"¿Qué ves en esta imagen? Describe los elementos principales.\", img])\n",
        "\n",
        "print(response.text)"
      ],
      "metadata": {
        "id": "qymQMb76DWce"
      },
      "execution_count": null,
      "outputs": []
    }
  ]
}